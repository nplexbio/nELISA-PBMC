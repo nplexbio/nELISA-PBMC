{
 "cells": [
  {
   "cell_type": "code",
   "execution_count": 1,
   "id": "c80cd76e",
   "metadata": {},
   "outputs": [],
   "source": [
    "import pandas as pd\n",
    "import numpy as np\n",
    "import seaborn as sbn\n",
    "import matplotlib.pyplot as plt\n",
    "from datetime import datetime\n",
    "\n",
    "current_date = datetime.now()\n",
    "formatted_date = current_date.strftime(\"%Y.%m.%d\")\n",
    "\n",
    "root = '/Users/grantongo/Desktop/nature methods/figures/figure 3'"
   ]
  },
  {
   "cell_type": "code",
   "execution_count": 3,
   "id": "2a73af55",
   "metadata": {},
   "outputs": [
    {
     "name": "stderr",
     "output_type": "stream",
     "text": [
      "/var/folders/1d/73pxx39550zdk8hqlvvzxbl40000gn/T/ipykernel_91075/3297691432.py:12: UserWarning: \n",
      "\n",
      "`distplot` is a deprecated function and will be removed in seaborn v0.14.0.\n",
      "\n",
      "Please adapt your code to use either `displot` (a figure-level function with\n",
      "similar flexibility) or `histplot` (an axes-level function for histograms).\n",
      "\n",
      "For a guide to updating your code to use the new functions, please see\n",
      "https://gist.github.com/mwaskom/de44147ed2974457ad6372750bbe5751\n",
      "\n",
      "  ax = sbn.distplot(df_w2w['cv'], hist=True, kde=True, hist_kws={'edgecolor':'royalblue','alpha':0.7},\n",
      "/var/folders/1d/73pxx39550zdk8hqlvvzxbl40000gn/T/ipykernel_91075/3297691432.py:14: UserWarning: \n",
      "\n",
      "`distplot` is a deprecated function and will be removed in seaborn v0.14.0.\n",
      "\n",
      "Please adapt your code to use either `displot` (a figure-level function with\n",
      "similar flexibility) or `histplot` (an axes-level function for histograms).\n",
      "\n",
      "For a guide to updating your code to use the new functions, please see\n",
      "https://gist.github.com/mwaskom/de44147ed2974457ad6372750bbe5751\n",
      "\n",
      "  ax = sbn.distplot(df_d2d['cv'], hist=True, kde=True, hist_kws={'edgecolor':'tomato','alpha':0.65},\n"
     ]
    },
    {
     "data": {
      "image/png": "[encoded data removed]",
      "text/plain": [
       "<Figure size 360x216 with 1 Axes>"
      ]
     },
     "metadata": {
      "needs_background": "light"
     },
     "output_type": "display_data"
    }
   ],
   "source": [
    "df_w2w = pd.read_csv(f'{root}/data_cv.well.to.well.csv',header=None)\n",
    "df_d2d = pd.read_csv(f'{root}/data_cv.day.to.day.csv',header=None)\n",
    "\n",
    "df_w2w.columns = ['cv']\n",
    "df_d2d.columns = ['cv']\n",
    "\n",
    "df_w2w['label'] = 'Well-to-Well'\n",
    "df_d2d['label'] = 'Day-to-Day'\n",
    "\n",
    "fig, ax = plt.subplots(figsize=(5,3))\n",
    "\n",
    "ax = sbn.distplot(df_w2w['cv'], hist=True, kde=True, hist_kws={'edgecolor':'royalblue','alpha':0.7}, \n",
    "             kde_kws={'linewidth':2}, bins=4, color='royalblue', label='INTRA')\n",
    "ax = sbn.distplot(df_d2d['cv'], hist=True, kde=True, hist_kws={'edgecolor':'tomato','alpha':0.65}, \n",
    "             kde_kws={'linewidth':2}, bins=11, color='tomato', label='INTER')\n",
    "\n",
    "ax.set_ylabel('Density')\n",
    "ax.set_xlabel('Percent CV')\n",
    "ax.set_title('Reproducibility')\n",
    "plt.text(3.7,1,'n = 384 wells')\n",
    "plt.text(6,0.45,'n = 28 wells, 7 days')\n",
    "ax.set_yticks(np.arange(0.0,1.6,0.2))\n",
    "plt.xlim(0, 12) \n",
    "ax.set_xticks(np.arange(0,12,2))\n",
    "ax.set_yticks(np.arange(0,1.4,0.4))\n",
    "plt.legend()\n",
    "plt.show()\n",
    "\n",
    "fig.savefig(f'{root}/svg_reproducibility.cv.svg')"
   ]
  },
  {
   "cell_type": "code",
   "execution_count": 5,
   "id": "da0e7b52",
   "metadata": {},
   "outputs": [
    {
     "name": "stderr",
     "output_type": "stream",
     "text": [
      "/var/folders/1d/73pxx39550zdk8hqlvvzxbl40000gn/T/ipykernel_91075/3434952047.py:12: UserWarning: \n",
      "\n",
      "`distplot` is a deprecated function and will be removed in seaborn v0.14.0.\n",
      "\n",
      "Please adapt your code to use either `displot` (a figure-level function with\n",
      "similar flexibility) or `histplot` (an axes-level function for histograms).\n",
      "\n",
      "For a guide to updating your code to use the new functions, please see\n",
      "https://gist.github.com/mwaskom/de44147ed2974457ad6372750bbe5751\n",
      "\n",
      "  ax = sbn.distplot(df_llod_noxdr, hist=True, kde=False, hist_kws={'edgecolor':'seagreen','alpha':0.7},\n",
      "/var/folders/1d/73pxx39550zdk8hqlvvzxbl40000gn/T/ipykernel_91075/3434952047.py:14: UserWarning: \n",
      "\n",
      "`distplot` is a deprecated function and will be removed in seaborn v0.14.0.\n",
      "\n",
      "Please adapt your code to use either `displot` (a figure-level function with\n",
      "similar flexibility) or `histplot` (an axes-level function for histograms).\n",
      "\n",
      "For a guide to updating your code to use the new functions, please see\n",
      "https://gist.github.com/mwaskom/de44147ed2974457ad6372750bbe5751\n",
      "\n",
      "  ax = sbn.distplot(df_ulod_noxdr, hist=True, kde=False, hist_kws={'edgecolor':'tomato','alpha':0.6},\n",
      "/var/folders/1d/73pxx39550zdk8hqlvvzxbl40000gn/T/ipykernel_91075/3434952047.py:16: UserWarning: \n",
      "\n",
      "`distplot` is a deprecated function and will be removed in seaborn v0.14.0.\n",
      "\n",
      "Please adapt your code to use either `displot` (a figure-level function with\n",
      "similar flexibility) or `histplot` (an axes-level function for histograms).\n",
      "\n",
      "For a guide to updating your code to use the new functions, please see\n",
      "https://gist.github.com/mwaskom/de44147ed2974457ad6372750bbe5751\n",
      "\n",
      "  ax = sbn.distplot(df_ulod_xdr, hist=True, kde=False, hist_kws={'edgecolor':'royalblue','alpha':0.65},\n"
     ]
    },
    {
     "data": {
      "image/png": "[encoded data removed]",
      "text/plain": [
       "<Figure size 360x144 with 1 Axes>"
      ]
     },
     "metadata": {
      "needs_background": "light"
     },
     "output_type": "display_data"
    }
   ],
   "source": [
    "df_lod_xdr = pd.read_csv(f'{root}/data_lod.xDR.csv',header=None)\n",
    "df_lod_noxdr = pd.read_csv(f'{root}/data_lod.csv',header=None)\n",
    "\n",
    "fig, ax = plt.subplots(figsize=(5,2))\n",
    "\n",
    "df_llod_noxdr = df_lod_noxdr.iloc[0]\n",
    "df_llod_xdr = df_lod_xdr.iloc[0]\n",
    "df_ulod_noxdr = df_lod_noxdr.iloc[1]\n",
    "df_ulod_xdr = df_lod_xdr.iloc[1]\n",
    "\n",
    "logbins = np.logspace(np.log10(0.01),np.log10(100000000),30)\n",
    "ax = sbn.distplot(df_llod_noxdr, hist=True, kde=False, hist_kws={'edgecolor':'seagreen','alpha':0.7}, \n",
    "             kde_kws={'linewidth':5}, bins=logbins, color='seagreen',label='LLOD')\n",
    "ax = sbn.distplot(df_ulod_noxdr, hist=True, kde=False, hist_kws={'edgecolor':'tomato','alpha':0.6}, \n",
    "             kde_kws={'linewidth':5}, bins=logbins, color='tomato', label='ULOD (Standard)')\n",
    "ax = sbn.distplot(df_ulod_xdr, hist=True, kde=False, hist_kws={'edgecolor':'royalblue','alpha':0.65}, \n",
    "             kde_kws={'linewidth':5}, bins=logbins, color='royalblue', label='ULOD (xDR)')\n",
    "\n",
    "ax.set_xscale('log')\n",
    "ax.set_xlabel('pg/mL')\n",
    "ax.set_ylabel('Count')\n",
    "ax.set_xlim(0.1,50000000)\n",
    "ax.set_title('Limits of Detection')\n",
    "ax.set_ylim(0,60)\n",
    "\n",
    "plt.legend()\n",
    "\n",
    "fig.savefig(f'{root}/svg_llod.ulod.distribution.svg')"
   ]
  },
  {
   "cell_type": "code",
   "execution_count": null,
   "id": "b274d0e5",
   "metadata": {},
   "outputs": [],
   "source": []
  }
 ],
 "metadata": {
  "kernelspec": {
   "display_name": "Python 3 (ipykernel)",
   "language": "python",
   "name": "python3"
  },
  "language_info": {
   "codemirror_mode": {
    "name": "ipython",
    "version": 3
   },
   "file_extension": ".py",
   "mimetype": "text/x-python",
   "name": "python",
   "nbconvert_exporter": "python",
   "pygments_lexer": "ipython3",
   "version": "3.9.12"
  }
 },
 "nbformat": 4,
 "nbformat_minor": 5
}
