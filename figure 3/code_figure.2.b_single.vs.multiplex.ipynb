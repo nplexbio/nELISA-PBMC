{
 "cells": [
  {
   "cell_type": "code",
   "execution_count": 3,
   "id": "3003c0e8",
   "metadata": {},
   "outputs": [
    {
     "data": {
      "text/html": [
       "<div>\n",
       "<style scoped>\n",
       "    .dataframe tbody tr th:only-of-type {\n",
       "        vertical-align: middle;\n",
       "    }\n",
       "\n",
       "    .dataframe tbody tr th {\n",
       "        vertical-align: top;\n",
       "    }\n",
       "\n",
       "    .dataframe thead th {\n",
       "        text-align: right;\n",
       "    }\n",
       "</style>\n",
       "<table border=\"1\" class=\"dataframe\">\n",
       "  <thead>\n",
       "    <tr style=\"text-align: right;\">\n",
       "      <th>panel</th>\n",
       "      <th>antigen</th>\n",
       "      <th>antigen_concentration</th>\n",
       "      <th>multiplex</th>\n",
       "      <th>singleplex</th>\n",
       "    </tr>\n",
       "  </thead>\n",
       "  <tbody>\n",
       "    <tr>\n",
       "      <th>0</th>\n",
       "      <td>CCL21</td>\n",
       "      <td>0.24</td>\n",
       "      <td>3.706380</td>\n",
       "      <td>3.021096</td>\n",
       "    </tr>\n",
       "    <tr>\n",
       "      <th>1</th>\n",
       "      <td>CCL21</td>\n",
       "      <td>0.60</td>\n",
       "      <td>-0.459619</td>\n",
       "      <td>-2.093841</td>\n",
       "    </tr>\n",
       "    <tr>\n",
       "      <th>2</th>\n",
       "      <td>CCL21</td>\n",
       "      <td>1.51</td>\n",
       "      <td>-0.250056</td>\n",
       "      <td>0.586448</td>\n",
       "    </tr>\n",
       "    <tr>\n",
       "      <th>3</th>\n",
       "      <td>CCL21</td>\n",
       "      <td>3.78</td>\n",
       "      <td>-0.599237</td>\n",
       "      <td>-5.495922</td>\n",
       "    </tr>\n",
       "    <tr>\n",
       "      <th>4</th>\n",
       "      <td>CCL21</td>\n",
       "      <td>9.44</td>\n",
       "      <td>-2.196610</td>\n",
       "      <td>4.446653</td>\n",
       "    </tr>\n",
       "  </tbody>\n",
       "</table>\n",
       "</div>"
      ],
      "text/plain": [
       "panel antigen  antigen_concentration  multiplex  singleplex\n",
       "0       CCL21                   0.24   3.706380    3.021096\n",
       "1       CCL21                   0.60  -0.459619   -2.093841\n",
       "2       CCL21                   1.51  -0.250056    0.586448\n",
       "3       CCL21                   3.78  -0.599237   -5.495922\n",
       "4       CCL21                   9.44  -2.196610    4.446653"
      ]
     },
     "execution_count": 3,
     "metadata": {},
     "output_type": "execute_result"
    }
   ],
   "source": [
    "import pandas as pd\n",
    "import seaborn as sbn\n",
    "import numpy as np\n",
    "import matplotlib as mpl\n",
    "import matplotlib.pyplot as plt\n",
    "from scipy.stats import linregress\n",
    "from datetime import datetime\n",
    "\n",
    "current_date = datetime.now()\n",
    "formatted_date = current_date.strftime(\"%Y.%m.%d\")\n",
    "\n",
    "root = '/Users/grantongo/Desktop/nature methods/figures/figure 3'\n",
    "\n",
    "df = pd.read_csv(f'{root}/data_singleplex_vs_multiplex.csv')\n",
    "df = pd.pivot_table(df, values='value',index=['antigen','antigen_concentration'], columns=['panel']).reset_index()\n",
    "\n",
    "df.head()"
   ]
  },
  {
   "cell_type": "code",
   "execution_count": 4,
   "id": "b659450d",
   "metadata": {},
   "outputs": [
    {
     "data": {
      "image/png": "[encoded data removed]",
      "text/plain": [
       "<Figure size 324x324 with 1 Axes>"
      ]
     },
     "metadata": {
      "needs_background": "light"
     },
     "output_type": "display_data"
    }
   ],
   "source": [
    "fig, ax = plt.subplots(1,1,figsize=(4.5,4.5))\n",
    "ax = sbn.regplot(data=df, \n",
    "                 x='singleplex',\n",
    "                 y='multiplex',\n",
    "                 scatter = False,\n",
    "                 fit_reg = True, color = 'tomato')\n",
    "ax = sbn.scatterplot(data=df, x='singleplex', y='multiplex', \n",
    "                     color= 'royalblue', \n",
    "                     zorder=100)\n",
    "ax.set_ylabel('191-plex', fontsize=15)\n",
    "ax.set_xlabel('1-plex', fontsize=15)\n",
    "ax.set_ylim(-10,190)\n",
    "ax.set_xlim(-10,190)\n",
    "\n",
    "rvalue = np.round(linregress(df['singleplex'],df['multiplex']).rvalue,decimals=3)\n",
    "r2value = np.round(rvalue*rvalue,decimals=3)\n",
    "ax.text(0.1, 0.9, f'R\\u00b2 = {r2value}',ha='left', va='top', transform=ax.transAxes, fontsize=10)\n",
    "\n",
    "fig.savefig(f'{root}/svg_singleplex.vs.multiplex_{formatted_date}.svg',dpi=400)\n",
    "fig.savefig(f'{root}/png_singleplex.vs.multiplex_{formatted_date}.png',dpi=200)"
   ]
  }
 ],
 "metadata": {
  "kernelspec": {
   "display_name": "Python 3 (ipykernel)",
   "language": "python",
   "name": "python3"
  },
  "language_info": {
   "codemirror_mode": {
    "name": "ipython",
    "version": 3
   },
   "file_extension": ".py",
   "mimetype": "text/x-python",
   "name": "python",
   "nbconvert_exporter": "python",
   "pygments_lexer": "ipython3",
   "version": "3.9.12"
  }
 },
 "nbformat": 4,
 "nbformat_minor": 5
}
