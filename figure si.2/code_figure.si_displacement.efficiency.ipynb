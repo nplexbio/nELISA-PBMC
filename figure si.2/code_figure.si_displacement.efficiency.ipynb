{
 "cells": [
  {
   "cell_type": "code",
   "execution_count": 5,
   "id": "9149918e",
   "metadata": {
    "code_folding": [
     1,
     8,
     20,
     26
    ]
   },
   "outputs": [
    {
     "data": {
      "image/png": "[encoded data removed]",
      "text/plain": [
       "<Figure size 504x360 with 1 Axes>"
      ]
     },
     "metadata": {
      "needs_background": "light"
     },
     "output_type": "display_data"
    }
   ],
   "source": [
    "# supplementary figure displacement efficiency\n",
    "\n",
    "import pandas as pd\n",
    "import seaborn as sbn \n",
    "import matplotlib.pyplot as plt\n",
    "from datetime import datetime\n",
    "\n",
    "current_date = datetime.now()\n",
    "formatted_date = current_date.strftime(\"%Y.%m.%d\")\n",
    "\n",
    "root = '/Users/grantongo/Desktop/nature methods/figures/figure si.1 (displacement efficiency)'\n",
    "\n",
    "\n",
    "df_nco = pd.read_csv(f'{root}/data_nco_displacement_efficiency.csv')\n",
    "df_nco['release (%)'] = df_nco['release (%)']*100\n",
    "\n",
    "\n",
    "fig, ax = plt.subplots(1,1,figsize=(7,5))\n",
    "\n",
    "ax = sbn.lineplot(data=df_nco[df_nco['n_co (pmols)']>0],\n",
    "                     x='n_co (pmols)',\n",
    "                     y='release (%)',\n",
    "                     ax=ax,\n",
    "                     color='royalblue'\n",
    "                     )\n",
    "ax = sbn.scatterplot(data=df_nco[df_nco['n_co (pmols)']>0],\n",
    "                     x='n_co (pmols)',\n",
    "                     y='release (%)',\n",
    "                     s=20,\n",
    "                     color='royalblue',\n",
    "                     ax=ax\n",
    "                     )\n",
    "ax.set_xscale('log')\n",
    "ax.set_ylim(90,100)\n",
    "ax.set_xlabel('$n_{co}$ (pmols)')\n",
    "ax.set_ylabel('Displacement Efficiency (%)')\n",
    "\n",
    "fig.savefig(f\"{root}/displacement_efficiency_{formatted_date}.svg\")"
   ]
  },
  {
   "cell_type": "code",
   "execution_count": null,
   "id": "9721c551",
   "metadata": {},
   "outputs": [],
   "source": []
  }
 ],
 "metadata": {
  "kernelspec": {
   "display_name": "Python 3 (ipykernel)",
   "language": "python",
   "name": "python3"
  },
  "language_info": {
   "codemirror_mode": {
    "name": "ipython",
    "version": 3
   },
   "file_extension": ".py",
   "mimetype": "text/x-python",
   "name": "python",
   "nbconvert_exporter": "python",
   "pygments_lexer": "ipython3",
   "version": "3.9.12"
  }
 },
 "nbformat": 4,
 "nbformat_minor": 5
}
